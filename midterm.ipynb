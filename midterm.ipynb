{
 "cells": [
  {
   "cell_type": "code",
   "execution_count": 138,
   "metadata": {},
   "outputs": [
    {
     "name": "stdout",
     "output_type": "stream",
     "text": [
      "Requirement already satisfied: pandas in /Users/guyuhui/micromamba/lib/python3.9/site-packages (2.0.2)\n",
      "Requirement already satisfied: python-dateutil>=2.8.2 in /Users/guyuhui/micromamba/lib/python3.9/site-packages (from pandas) (2.8.2)\n",
      "Requirement already satisfied: pytz>=2020.1 in /Users/guyuhui/micromamba/lib/python3.9/site-packages (from pandas) (2023.3)\n",
      "Requirement already satisfied: tzdata>=2022.1 in /Users/guyuhui/micromamba/lib/python3.9/site-packages (from pandas) (2023.3)\n",
      "Requirement already satisfied: numpy>=1.20.3 in /Users/guyuhui/micromamba/lib/python3.9/site-packages (from pandas) (1.24.3)\n",
      "Requirement already satisfied: six>=1.5 in /Users/guyuhui/micromamba/lib/python3.9/site-packages (from python-dateutil>=2.8.2->pandas) (1.16.0)\n",
      "Note: you may need to restart the kernel to use updated packages.\n"
     ]
    }
   ],
   "source": [
    "pip install pandas"
   ]
  },
  {
   "cell_type": "code",
   "execution_count": 139,
   "metadata": {},
   "outputs": [
    {
     "name": "stdout",
     "output_type": "stream",
     "text": [
      "Requirement already satisfied: seaborn in /Users/guyuhui/micromamba/lib/python3.9/site-packages (0.12.2)\n",
      "Requirement already satisfied: numpy!=1.24.0,>=1.17 in /Users/guyuhui/micromamba/lib/python3.9/site-packages (from seaborn) (1.24.3)\n",
      "Requirement already satisfied: pandas>=0.25 in /Users/guyuhui/micromamba/lib/python3.9/site-packages (from seaborn) (2.0.2)\n",
      "Requirement already satisfied: matplotlib!=3.6.1,>=3.1 in /Users/guyuhui/micromamba/lib/python3.9/site-packages (from seaborn) (3.7.1)\n",
      "Requirement already satisfied: contourpy>=1.0.1 in /Users/guyuhui/micromamba/lib/python3.9/site-packages (from matplotlib!=3.6.1,>=3.1->seaborn) (1.1.0)\n",
      "Requirement already satisfied: cycler>=0.10 in /Users/guyuhui/micromamba/lib/python3.9/site-packages (from matplotlib!=3.6.1,>=3.1->seaborn) (0.11.0)\n",
      "Requirement already satisfied: fonttools>=4.22.0 in /Users/guyuhui/micromamba/lib/python3.9/site-packages (from matplotlib!=3.6.1,>=3.1->seaborn) (4.40.0)\n",
      "Requirement already satisfied: kiwisolver>=1.0.1 in /Users/guyuhui/micromamba/lib/python3.9/site-packages (from matplotlib!=3.6.1,>=3.1->seaborn) (1.4.4)\n",
      "Requirement already satisfied: packaging>=20.0 in /Users/guyuhui/micromamba/lib/python3.9/site-packages (from matplotlib!=3.6.1,>=3.1->seaborn) (23.1)\n",
      "Requirement already satisfied: pillow>=6.2.0 in /Users/guyuhui/micromamba/lib/python3.9/site-packages (from matplotlib!=3.6.1,>=3.1->seaborn) (9.5.0)\n",
      "Requirement already satisfied: pyparsing>=2.3.1 in /Users/guyuhui/micromamba/lib/python3.9/site-packages (from matplotlib!=3.6.1,>=3.1->seaborn) (3.1.0)\n",
      "Requirement already satisfied: python-dateutil>=2.7 in /Users/guyuhui/micromamba/lib/python3.9/site-packages (from matplotlib!=3.6.1,>=3.1->seaborn) (2.8.2)\n",
      "Requirement already satisfied: importlib-resources>=3.2.0 in /Users/guyuhui/micromamba/lib/python3.9/site-packages (from matplotlib!=3.6.1,>=3.1->seaborn) (5.12.0)\n",
      "Requirement already satisfied: pytz>=2020.1 in /Users/guyuhui/micromamba/lib/python3.9/site-packages (from pandas>=0.25->seaborn) (2023.3)\n",
      "Requirement already satisfied: tzdata>=2022.1 in /Users/guyuhui/micromamba/lib/python3.9/site-packages (from pandas>=0.25->seaborn) (2023.3)\n",
      "Requirement already satisfied: zipp>=3.1.0 in /Users/guyuhui/micromamba/lib/python3.9/site-packages (from importlib-resources>=3.2.0->matplotlib!=3.6.1,>=3.1->seaborn) (3.15.0)\n",
      "Requirement already satisfied: six>=1.5 in /Users/guyuhui/micromamba/lib/python3.9/site-packages (from python-dateutil>=2.7->matplotlib!=3.6.1,>=3.1->seaborn) (1.16.0)\n",
      "Note: you may need to restart the kernel to use updated packages.\n"
     ]
    }
   ],
   "source": [
    "pip install seaborn"
   ]
  },
  {
   "cell_type": "code",
   "execution_count": 140,
   "metadata": {},
   "outputs": [],
   "source": [
    "#improt relevant libraries\n",
    "import pandas as pd\n",
    "import seaborn as sns"
   ]
  },
  {
   "cell_type": "code",
   "execution_count": 141,
   "metadata": {},
   "outputs": [],
   "source": [
    "df = pd.read_csv('/Users/guyuhui/Desktop/midterm_data.csv')"
   ]
  },
  {
   "cell_type": "code",
   "execution_count": 142,
   "metadata": {},
   "outputs": [
    {
     "data": {
      "text/html": [
       "<div>\n",
       "<style scoped>\n",
       "    .dataframe tbody tr th:only-of-type {\n",
       "        vertical-align: middle;\n",
       "    }\n",
       "\n",
       "    .dataframe tbody tr th {\n",
       "        vertical-align: top;\n",
       "    }\n",
       "\n",
       "    .dataframe thead th {\n",
       "        text-align: right;\n",
       "    }\n",
       "</style>\n",
       "<table border=\"1\" class=\"dataframe\">\n",
       "  <thead>\n",
       "    <tr style=\"text-align: right;\">\n",
       "      <th></th>\n",
       "      <th>userID</th>\n",
       "      <th>age</th>\n",
       "      <th>sessions</th>\n",
       "      <th>time_spent</th>\n",
       "      <th>pages_visited</th>\n",
       "      <th>cart_items</th>\n",
       "      <th>cart_value</th>\n",
       "      <th>checkout_status</th>\n",
       "      <th>device</th>\n",
       "      <th>location</th>\n",
       "    </tr>\n",
       "  </thead>\n",
       "  <tbody>\n",
       "    <tr>\n",
       "      <th>0</th>\n",
       "      <td>1</td>\n",
       "      <td>62</td>\n",
       "      <td>3</td>\n",
       "      <td>13.295129</td>\n",
       "      <td>2</td>\n",
       "      <td>20</td>\n",
       "      <td>199.21</td>\n",
       "      <td>0</td>\n",
       "      <td>Desktop</td>\n",
       "      <td>Location 1</td>\n",
       "    </tr>\n",
       "    <tr>\n",
       "      <th>1</th>\n",
       "      <td>2</td>\n",
       "      <td>65</td>\n",
       "      <td>2</td>\n",
       "      <td>21.686405</td>\n",
       "      <td>3</td>\n",
       "      <td>21</td>\n",
       "      <td>294.82</td>\n",
       "      <td>0</td>\n",
       "      <td>Desktop</td>\n",
       "      <td>Location 3</td>\n",
       "    </tr>\n",
       "    <tr>\n",
       "      <th>2</th>\n",
       "      <td>3</td>\n",
       "      <td>18</td>\n",
       "      <td>7</td>\n",
       "      <td>17.135220</td>\n",
       "      <td>4</td>\n",
       "      <td>23</td>\n",
       "      <td>240.87</td>\n",
       "      <td>0</td>\n",
       "      <td>Desktop</td>\n",
       "      <td>Location 4</td>\n",
       "    </tr>\n",
       "    <tr>\n",
       "      <th>3</th>\n",
       "      <td>4</td>\n",
       "      <td>21</td>\n",
       "      <td>9</td>\n",
       "      <td>29.589311</td>\n",
       "      <td>8</td>\n",
       "      <td>16</td>\n",
       "      <td>183.78</td>\n",
       "      <td>1</td>\n",
       "      <td>Desktop</td>\n",
       "      <td>Location 2</td>\n",
       "    </tr>\n",
       "    <tr>\n",
       "      <th>4</th>\n",
       "      <td>5</td>\n",
       "      <td>21</td>\n",
       "      <td>3</td>\n",
       "      <td>25.948584</td>\n",
       "      <td>4</td>\n",
       "      <td>10</td>\n",
       "      <td>59.51</td>\n",
       "      <td>1</td>\n",
       "      <td>Tablet</td>\n",
       "      <td>Location 4</td>\n",
       "    </tr>\n",
       "  </tbody>\n",
       "</table>\n",
       "</div>"
      ],
      "text/plain": [
       "   userID  age  sessions  time_spent  pages_visited  cart_items  cart_value  \\\n",
       "0       1   62         3   13.295129              2          20      199.21   \n",
       "1       2   65         2   21.686405              3          21      294.82   \n",
       "2       3   18         7   17.135220              4          23      240.87   \n",
       "3       4   21         9   29.589311              8          16      183.78   \n",
       "4       5   21         3   25.948584              4          10       59.51   \n",
       "\n",
       "   checkout_status   device    location  \n",
       "0                0  Desktop  Location 1  \n",
       "1                0  Desktop  Location 3  \n",
       "2                0  Desktop  Location 4  \n",
       "3                1  Desktop  Location 2  \n",
       "4                1   Tablet  Location 4  "
      ]
     },
     "execution_count": 142,
     "metadata": {},
     "output_type": "execute_result"
    }
   ],
   "source": [
    "df.head()"
   ]
  },
  {
   "cell_type": "code",
   "execution_count": 143,
   "metadata": {},
   "outputs": [
    {
     "name": "stdout",
     "output_type": "stream",
     "text": [
      "<class 'pandas.core.frame.DataFrame'>\n",
      "RangeIndex: 5000 entries, 0 to 4999\n",
      "Data columns (total 10 columns):\n",
      " #   Column           Non-Null Count  Dtype  \n",
      "---  ------           --------------  -----  \n",
      " 0   userID           5000 non-null   int64  \n",
      " 1   age              5000 non-null   int64  \n",
      " 2   sessions         5000 non-null   int64  \n",
      " 3   time_spent       5000 non-null   float64\n",
      " 4   pages_visited    5000 non-null   int64  \n",
      " 5   cart_items       5000 non-null   int64  \n",
      " 6   cart_value       5000 non-null   float64\n",
      " 7   checkout_status  5000 non-null   int64  \n",
      " 8   device           4900 non-null   object \n",
      " 9   location         4970 non-null   object \n",
      "dtypes: float64(2), int64(6), object(2)\n",
      "memory usage: 390.8+ KB\n"
     ]
    }
   ],
   "source": [
    "df.info()"
   ]
  },
  {
   "cell_type": "code",
   "execution_count": 144,
   "metadata": {},
   "outputs": [
    {
     "data": {
      "text/html": [
       "<div>\n",
       "<style scoped>\n",
       "    .dataframe tbody tr th:only-of-type {\n",
       "        vertical-align: middle;\n",
       "    }\n",
       "\n",
       "    .dataframe tbody tr th {\n",
       "        vertical-align: top;\n",
       "    }\n",
       "\n",
       "    .dataframe thead th {\n",
       "        text-align: right;\n",
       "    }\n",
       "</style>\n",
       "<table border=\"1\" class=\"dataframe\">\n",
       "  <thead>\n",
       "    <tr style=\"text-align: right;\">\n",
       "      <th></th>\n",
       "      <th>userID</th>\n",
       "      <th>age</th>\n",
       "      <th>sessions</th>\n",
       "      <th>time_spent</th>\n",
       "      <th>pages_visited</th>\n",
       "      <th>cart_items</th>\n",
       "      <th>cart_value</th>\n",
       "      <th>checkout_status</th>\n",
       "      <th>device</th>\n",
       "      <th>location</th>\n",
       "    </tr>\n",
       "  </thead>\n",
       "  <tbody>\n",
       "    <tr>\n",
       "      <th>count</th>\n",
       "      <td>5000.000000</td>\n",
       "      <td>5000.000000</td>\n",
       "      <td>5000.000000</td>\n",
       "      <td>5000.000000</td>\n",
       "      <td>5000.000000</td>\n",
       "      <td>5000.000000</td>\n",
       "      <td>5000.000000</td>\n",
       "      <td>5000.000000</td>\n",
       "      <td>4900</td>\n",
       "      <td>4970</td>\n",
       "    </tr>\n",
       "    <tr>\n",
       "      <th>unique</th>\n",
       "      <td>NaN</td>\n",
       "      <td>NaN</td>\n",
       "      <td>NaN</td>\n",
       "      <td>NaN</td>\n",
       "      <td>NaN</td>\n",
       "      <td>NaN</td>\n",
       "      <td>NaN</td>\n",
       "      <td>NaN</td>\n",
       "      <td>3</td>\n",
       "      <td>5</td>\n",
       "    </tr>\n",
       "    <tr>\n",
       "      <th>top</th>\n",
       "      <td>NaN</td>\n",
       "      <td>NaN</td>\n",
       "      <td>NaN</td>\n",
       "      <td>NaN</td>\n",
       "      <td>NaN</td>\n",
       "      <td>NaN</td>\n",
       "      <td>NaN</td>\n",
       "      <td>NaN</td>\n",
       "      <td>Desktop</td>\n",
       "      <td>Location 4</td>\n",
       "    </tr>\n",
       "    <tr>\n",
       "      <th>freq</th>\n",
       "      <td>NaN</td>\n",
       "      <td>NaN</td>\n",
       "      <td>NaN</td>\n",
       "      <td>NaN</td>\n",
       "      <td>NaN</td>\n",
       "      <td>NaN</td>\n",
       "      <td>NaN</td>\n",
       "      <td>NaN</td>\n",
       "      <td>2538</td>\n",
       "      <td>1056</td>\n",
       "    </tr>\n",
       "    <tr>\n",
       "      <th>mean</th>\n",
       "      <td>2500.500000</td>\n",
       "      <td>41.538200</td>\n",
       "      <td>5.027200</td>\n",
       "      <td>25.158496</td>\n",
       "      <td>5.774400</td>\n",
       "      <td>14.966400</td>\n",
       "      <td>149.443146</td>\n",
       "      <td>0.272400</td>\n",
       "      <td>NaN</td>\n",
       "      <td>NaN</td>\n",
       "    </tr>\n",
       "    <tr>\n",
       "      <th>std</th>\n",
       "      <td>1443.520003</td>\n",
       "      <td>14.042734</td>\n",
       "      <td>2.594958</td>\n",
       "      <td>9.825536</td>\n",
       "      <td>2.570842</td>\n",
       "      <td>6.046336</td>\n",
       "      <td>68.711683</td>\n",
       "      <td>0.445239</td>\n",
       "      <td>NaN</td>\n",
       "      <td>NaN</td>\n",
       "    </tr>\n",
       "    <tr>\n",
       "      <th>min</th>\n",
       "      <td>1.000000</td>\n",
       "      <td>18.000000</td>\n",
       "      <td>1.000000</td>\n",
       "      <td>1.000000</td>\n",
       "      <td>1.000000</td>\n",
       "      <td>5.000000</td>\n",
       "      <td>20.410000</td>\n",
       "      <td>0.000000</td>\n",
       "      <td>NaN</td>\n",
       "      <td>NaN</td>\n",
       "    </tr>\n",
       "    <tr>\n",
       "      <th>25%</th>\n",
       "      <td>1250.750000</td>\n",
       "      <td>29.000000</td>\n",
       "      <td>3.000000</td>\n",
       "      <td>18.268862</td>\n",
       "      <td>4.000000</td>\n",
       "      <td>10.000000</td>\n",
       "      <td>92.482500</td>\n",
       "      <td>0.000000</td>\n",
       "      <td>NaN</td>\n",
       "      <td>NaN</td>\n",
       "    </tr>\n",
       "    <tr>\n",
       "      <th>50%</th>\n",
       "      <td>2500.500000</td>\n",
       "      <td>42.000000</td>\n",
       "      <td>5.000000</td>\n",
       "      <td>25.035361</td>\n",
       "      <td>6.000000</td>\n",
       "      <td>15.000000</td>\n",
       "      <td>143.440000</td>\n",
       "      <td>0.000000</td>\n",
       "      <td>NaN</td>\n",
       "      <td>NaN</td>\n",
       "    </tr>\n",
       "    <tr>\n",
       "      <th>75%</th>\n",
       "      <td>3750.250000</td>\n",
       "      <td>54.000000</td>\n",
       "      <td>7.000000</td>\n",
       "      <td>32.000361</td>\n",
       "      <td>8.000000</td>\n",
       "      <td>20.000000</td>\n",
       "      <td>198.380000</td>\n",
       "      <td>1.000000</td>\n",
       "      <td>NaN</td>\n",
       "      <td>NaN</td>\n",
       "    </tr>\n",
       "    <tr>\n",
       "      <th>max</th>\n",
       "      <td>5000.000000</td>\n",
       "      <td>65.000000</td>\n",
       "      <td>9.000000</td>\n",
       "      <td>90.000000</td>\n",
       "      <td>12.000000</td>\n",
       "      <td>25.000000</td>\n",
       "      <td>427.400000</td>\n",
       "      <td>1.000000</td>\n",
       "      <td>NaN</td>\n",
       "      <td>NaN</td>\n",
       "    </tr>\n",
       "  </tbody>\n",
       "</table>\n",
       "</div>"
      ],
      "text/plain": [
       "             userID          age     sessions   time_spent  pages_visited  \\\n",
       "count   5000.000000  5000.000000  5000.000000  5000.000000    5000.000000   \n",
       "unique          NaN          NaN          NaN          NaN            NaN   \n",
       "top             NaN          NaN          NaN          NaN            NaN   \n",
       "freq            NaN          NaN          NaN          NaN            NaN   \n",
       "mean    2500.500000    41.538200     5.027200    25.158496       5.774400   \n",
       "std     1443.520003    14.042734     2.594958     9.825536       2.570842   \n",
       "min        1.000000    18.000000     1.000000     1.000000       1.000000   \n",
       "25%     1250.750000    29.000000     3.000000    18.268862       4.000000   \n",
       "50%     2500.500000    42.000000     5.000000    25.035361       6.000000   \n",
       "75%     3750.250000    54.000000     7.000000    32.000361       8.000000   \n",
       "max     5000.000000    65.000000     9.000000    90.000000      12.000000   \n",
       "\n",
       "         cart_items   cart_value  checkout_status   device    location  \n",
       "count   5000.000000  5000.000000      5000.000000     4900        4970  \n",
       "unique          NaN          NaN              NaN        3           5  \n",
       "top             NaN          NaN              NaN  Desktop  Location 4  \n",
       "freq            NaN          NaN              NaN     2538        1056  \n",
       "mean      14.966400   149.443146         0.272400      NaN         NaN  \n",
       "std        6.046336    68.711683         0.445239      NaN         NaN  \n",
       "min        5.000000    20.410000         0.000000      NaN         NaN  \n",
       "25%       10.000000    92.482500         0.000000      NaN         NaN  \n",
       "50%       15.000000   143.440000         0.000000      NaN         NaN  \n",
       "75%       20.000000   198.380000         1.000000      NaN         NaN  \n",
       "max       25.000000   427.400000         1.000000      NaN         NaN  "
      ]
     },
     "execution_count": 144,
     "metadata": {},
     "output_type": "execute_result"
    }
   ],
   "source": [
    "df.describe(include='all')"
   ]
  },
  {
   "attachments": {},
   "cell_type": "markdown",
   "metadata": {},
   "source": [
    "For data cleaning process, first, we should check if there are any rows where all columns have a missing data point, these rows we should drop immediately."
   ]
  },
  {
   "cell_type": "code",
   "execution_count": 145,
   "metadata": {},
   "outputs": [
    {
     "data": {
      "text/html": [
       "<div>\n",
       "<style scoped>\n",
       "    .dataframe tbody tr th:only-of-type {\n",
       "        vertical-align: middle;\n",
       "    }\n",
       "\n",
       "    .dataframe tbody tr th {\n",
       "        vertical-align: top;\n",
       "    }\n",
       "\n",
       "    .dataframe thead th {\n",
       "        text-align: right;\n",
       "    }\n",
       "</style>\n",
       "<table border=\"1\" class=\"dataframe\">\n",
       "  <thead>\n",
       "    <tr style=\"text-align: right;\">\n",
       "      <th></th>\n",
       "      <th>userID</th>\n",
       "      <th>age</th>\n",
       "      <th>sessions</th>\n",
       "      <th>time_spent</th>\n",
       "      <th>pages_visited</th>\n",
       "      <th>cart_items</th>\n",
       "      <th>cart_value</th>\n",
       "      <th>checkout_status</th>\n",
       "      <th>device</th>\n",
       "      <th>location</th>\n",
       "    </tr>\n",
       "  </thead>\n",
       "  <tbody>\n",
       "    <tr>\n",
       "      <th>2130</th>\n",
       "      <td>2131</td>\n",
       "      <td>20</td>\n",
       "      <td>5</td>\n",
       "      <td>21.841304</td>\n",
       "      <td>6</td>\n",
       "      <td>19</td>\n",
       "      <td>243.39</td>\n",
       "      <td>0</td>\n",
       "      <td>NaN</td>\n",
       "      <td>NaN</td>\n",
       "    </tr>\n",
       "  </tbody>\n",
       "</table>\n",
       "</div>"
      ],
      "text/plain": [
       "      userID  age  sessions  time_spent  pages_visited  cart_items  \\\n",
       "2130    2131   20         5   21.841304              6          19   \n",
       "\n",
       "      cart_value  checkout_status device location  \n",
       "2130      243.39                0    NaN      NaN  "
      ]
     },
     "execution_count": 145,
     "metadata": {},
     "output_type": "execute_result"
    }
   ],
   "source": [
    "#clean data\n",
    "df[df['device'].isnull() & df['location'].isnull()]"
   ]
  },
  {
   "cell_type": "code",
   "execution_count": 146,
   "metadata": {},
   "outputs": [],
   "source": [
    "#drop row 2130\n",
    "df.drop([2130], axis=0, inplace=True)"
   ]
  },
  {
   "cell_type": "code",
   "execution_count": 147,
   "metadata": {},
   "outputs": [
    {
     "name": "stdout",
     "output_type": "stream",
     "text": [
      "<class 'pandas.core.frame.DataFrame'>\n",
      "Index: 4999 entries, 0 to 4999\n",
      "Data columns (total 10 columns):\n",
      " #   Column           Non-Null Count  Dtype  \n",
      "---  ------           --------------  -----  \n",
      " 0   userID           4999 non-null   int64  \n",
      " 1   age              4999 non-null   int64  \n",
      " 2   sessions         4999 non-null   int64  \n",
      " 3   time_spent       4999 non-null   float64\n",
      " 4   pages_visited    4999 non-null   int64  \n",
      " 5   cart_items       4999 non-null   int64  \n",
      " 6   cart_value       4999 non-null   float64\n",
      " 7   checkout_status  4999 non-null   int64  \n",
      " 8   device           4900 non-null   object \n",
      " 9   location         4970 non-null   object \n",
      "dtypes: float64(2), int64(6), object(2)\n",
      "memory usage: 429.6+ KB\n"
     ]
    }
   ],
   "source": [
    "df.info()"
   ]
  },
  {
   "attachments": {},
   "cell_type": "markdown",
   "metadata": {},
   "source": [
    "Next we can fill in missing device and location data with \"Other\". First, we'll make a copy of our DataFrame because we want to test the output of this approach."
   ]
  },
  {
   "cell_type": "code",
   "execution_count": 148,
   "metadata": {},
   "outputs": [],
   "source": [
    "#make a copy of the DataFrame\n",
    "df_test = df.copy()"
   ]
  },
  {
   "cell_type": "code",
   "execution_count": 149,
   "metadata": {},
   "outputs": [
    {
     "data": {
      "text/html": [
       "<div>\n",
       "<style scoped>\n",
       "    .dataframe tbody tr th:only-of-type {\n",
       "        vertical-align: middle;\n",
       "    }\n",
       "\n",
       "    .dataframe tbody tr th {\n",
       "        vertical-align: top;\n",
       "    }\n",
       "\n",
       "    .dataframe thead tr th {\n",
       "        text-align: left;\n",
       "    }\n",
       "\n",
       "    .dataframe thead tr:last-of-type th {\n",
       "        text-align: right;\n",
       "    }\n",
       "</style>\n",
       "<table border=\"1\" class=\"dataframe\">\n",
       "  <thead>\n",
       "    <tr>\n",
       "      <th></th>\n",
       "      <th colspan=\"8\" halign=\"left\">userID</th>\n",
       "      <th colspan=\"2\" halign=\"left\">age</th>\n",
       "      <th>...</th>\n",
       "      <th colspan=\"2\" halign=\"left\">cart_value</th>\n",
       "      <th colspan=\"8\" halign=\"left\">checkout_status</th>\n",
       "    </tr>\n",
       "    <tr>\n",
       "      <th></th>\n",
       "      <th>count</th>\n",
       "      <th>mean</th>\n",
       "      <th>std</th>\n",
       "      <th>min</th>\n",
       "      <th>25%</th>\n",
       "      <th>50%</th>\n",
       "      <th>75%</th>\n",
       "      <th>max</th>\n",
       "      <th>count</th>\n",
       "      <th>mean</th>\n",
       "      <th>...</th>\n",
       "      <th>75%</th>\n",
       "      <th>max</th>\n",
       "      <th>count</th>\n",
       "      <th>mean</th>\n",
       "      <th>std</th>\n",
       "      <th>min</th>\n",
       "      <th>25%</th>\n",
       "      <th>50%</th>\n",
       "      <th>75%</th>\n",
       "      <th>max</th>\n",
       "    </tr>\n",
       "    <tr>\n",
       "      <th>device</th>\n",
       "      <th></th>\n",
       "      <th></th>\n",
       "      <th></th>\n",
       "      <th></th>\n",
       "      <th></th>\n",
       "      <th></th>\n",
       "      <th></th>\n",
       "      <th></th>\n",
       "      <th></th>\n",
       "      <th></th>\n",
       "      <th></th>\n",
       "      <th></th>\n",
       "      <th></th>\n",
       "      <th></th>\n",
       "      <th></th>\n",
       "      <th></th>\n",
       "      <th></th>\n",
       "      <th></th>\n",
       "      <th></th>\n",
       "      <th></th>\n",
       "      <th></th>\n",
       "    </tr>\n",
       "  </thead>\n",
       "  <tbody>\n",
       "    <tr>\n",
       "      <th>Desktop</th>\n",
       "      <td>2538.0</td>\n",
       "      <td>2481.464933</td>\n",
       "      <td>1435.264432</td>\n",
       "      <td>1.0</td>\n",
       "      <td>1260.25</td>\n",
       "      <td>2497.5</td>\n",
       "      <td>3733.75</td>\n",
       "      <td>4999.0</td>\n",
       "      <td>2538.0</td>\n",
       "      <td>41.338849</td>\n",
       "      <td>...</td>\n",
       "      <td>197.2450</td>\n",
       "      <td>427.40</td>\n",
       "      <td>2538.0</td>\n",
       "      <td>0.285264</td>\n",
       "      <td>0.451629</td>\n",
       "      <td>0.0</td>\n",
       "      <td>0.0</td>\n",
       "      <td>0.0</td>\n",
       "      <td>1.0</td>\n",
       "      <td>1.0</td>\n",
       "    </tr>\n",
       "    <tr>\n",
       "      <th>Mobile</th>\n",
       "      <td>1428.0</td>\n",
       "      <td>2518.448880</td>\n",
       "      <td>1457.420581</td>\n",
       "      <td>7.0</td>\n",
       "      <td>1236.75</td>\n",
       "      <td>2512.5</td>\n",
       "      <td>3807.75</td>\n",
       "      <td>4991.0</td>\n",
       "      <td>1428.0</td>\n",
       "      <td>41.724790</td>\n",
       "      <td>...</td>\n",
       "      <td>201.6100</td>\n",
       "      <td>387.98</td>\n",
       "      <td>1428.0</td>\n",
       "      <td>0.264706</td>\n",
       "      <td>0.441331</td>\n",
       "      <td>0.0</td>\n",
       "      <td>0.0</td>\n",
       "      <td>0.0</td>\n",
       "      <td>1.0</td>\n",
       "      <td>1.0</td>\n",
       "    </tr>\n",
       "    <tr>\n",
       "      <th>Tablet</th>\n",
       "      <td>934.0</td>\n",
       "      <td>2534.595289</td>\n",
       "      <td>1452.234322</td>\n",
       "      <td>5.0</td>\n",
       "      <td>1271.25</td>\n",
       "      <td>2513.0</td>\n",
       "      <td>3753.25</td>\n",
       "      <td>5000.0</td>\n",
       "      <td>934.0</td>\n",
       "      <td>41.844754</td>\n",
       "      <td>...</td>\n",
       "      <td>197.7025</td>\n",
       "      <td>377.98</td>\n",
       "      <td>934.0</td>\n",
       "      <td>0.254818</td>\n",
       "      <td>0.435992</td>\n",
       "      <td>0.0</td>\n",
       "      <td>0.0</td>\n",
       "      <td>0.0</td>\n",
       "      <td>1.0</td>\n",
       "      <td>1.0</td>\n",
       "    </tr>\n",
       "  </tbody>\n",
       "</table>\n",
       "<p>3 rows × 64 columns</p>\n",
       "</div>"
      ],
      "text/plain": [
       "         userID                                                           \\\n",
       "          count         mean          std  min      25%     50%      75%   \n",
       "device                                                                     \n",
       "Desktop  2538.0  2481.464933  1435.264432  1.0  1260.25  2497.5  3733.75   \n",
       "Mobile   1428.0  2518.448880  1457.420581  7.0  1236.75  2512.5  3807.75   \n",
       "Tablet    934.0  2534.595289  1452.234322  5.0  1271.25  2513.0  3753.25   \n",
       "\n",
       "                    age             ... cart_value         checkout_status  \\\n",
       "            max   count       mean  ...        75%     max           count   \n",
       "device                              ...                                      \n",
       "Desktop  4999.0  2538.0  41.338849  ...   197.2450  427.40          2538.0   \n",
       "Mobile   4991.0  1428.0  41.724790  ...   201.6100  387.98          1428.0   \n",
       "Tablet   5000.0   934.0  41.844754  ...   197.7025  377.98           934.0   \n",
       "\n",
       "                                                      \n",
       "             mean       std  min  25%  50%  75%  max  \n",
       "device                                                \n",
       "Desktop  0.285264  0.451629  0.0  0.0  0.0  1.0  1.0  \n",
       "Mobile   0.264706  0.441331  0.0  0.0  0.0  1.0  1.0  \n",
       "Tablet   0.254818  0.435992  0.0  0.0  0.0  1.0  1.0  \n",
       "\n",
       "[3 rows x 64 columns]"
      ]
     },
     "execution_count": 149,
     "metadata": {},
     "output_type": "execute_result"
    }
   ],
   "source": [
    "# Obtain descriptive statistics by decive\n",
    "df_test.groupby('device').describe()"
   ]
  },
  {
   "cell_type": "code",
   "execution_count": 150,
   "metadata": {},
   "outputs": [],
   "source": [
    "# Fill in missing device data with \"Other\" \n",
    "df_test['device'] = df_test['device'].fillna('Other')"
   ]
  },
  {
   "cell_type": "code",
   "execution_count": 151,
   "metadata": {},
   "outputs": [
    {
     "data": {
      "text/html": [
       "<div>\n",
       "<style scoped>\n",
       "    .dataframe tbody tr th:only-of-type {\n",
       "        vertical-align: middle;\n",
       "    }\n",
       "\n",
       "    .dataframe tbody tr th {\n",
       "        vertical-align: top;\n",
       "    }\n",
       "\n",
       "    .dataframe thead tr th {\n",
       "        text-align: left;\n",
       "    }\n",
       "\n",
       "    .dataframe thead tr:last-of-type th {\n",
       "        text-align: right;\n",
       "    }\n",
       "</style>\n",
       "<table border=\"1\" class=\"dataframe\">\n",
       "  <thead>\n",
       "    <tr>\n",
       "      <th></th>\n",
       "      <th colspan=\"8\" halign=\"left\">userID</th>\n",
       "      <th colspan=\"2\" halign=\"left\">age</th>\n",
       "      <th>...</th>\n",
       "      <th colspan=\"2\" halign=\"left\">cart_value</th>\n",
       "      <th colspan=\"8\" halign=\"left\">checkout_status</th>\n",
       "    </tr>\n",
       "    <tr>\n",
       "      <th></th>\n",
       "      <th>count</th>\n",
       "      <th>mean</th>\n",
       "      <th>std</th>\n",
       "      <th>min</th>\n",
       "      <th>25%</th>\n",
       "      <th>50%</th>\n",
       "      <th>75%</th>\n",
       "      <th>max</th>\n",
       "      <th>count</th>\n",
       "      <th>mean</th>\n",
       "      <th>...</th>\n",
       "      <th>75%</th>\n",
       "      <th>max</th>\n",
       "      <th>count</th>\n",
       "      <th>mean</th>\n",
       "      <th>std</th>\n",
       "      <th>min</th>\n",
       "      <th>25%</th>\n",
       "      <th>50%</th>\n",
       "      <th>75%</th>\n",
       "      <th>max</th>\n",
       "    </tr>\n",
       "    <tr>\n",
       "      <th>device</th>\n",
       "      <th></th>\n",
       "      <th></th>\n",
       "      <th></th>\n",
       "      <th></th>\n",
       "      <th></th>\n",
       "      <th></th>\n",
       "      <th></th>\n",
       "      <th></th>\n",
       "      <th></th>\n",
       "      <th></th>\n",
       "      <th></th>\n",
       "      <th></th>\n",
       "      <th></th>\n",
       "      <th></th>\n",
       "      <th></th>\n",
       "      <th></th>\n",
       "      <th></th>\n",
       "      <th></th>\n",
       "      <th></th>\n",
       "      <th></th>\n",
       "      <th></th>\n",
       "    </tr>\n",
       "  </thead>\n",
       "  <tbody>\n",
       "    <tr>\n",
       "      <th>Desktop</th>\n",
       "      <td>2538.0</td>\n",
       "      <td>2481.464933</td>\n",
       "      <td>1435.264432</td>\n",
       "      <td>1.0</td>\n",
       "      <td>1260.25</td>\n",
       "      <td>2497.5</td>\n",
       "      <td>3733.75</td>\n",
       "      <td>4999.0</td>\n",
       "      <td>2538.0</td>\n",
       "      <td>41.338849</td>\n",
       "      <td>...</td>\n",
       "      <td>197.2450</td>\n",
       "      <td>427.40</td>\n",
       "      <td>2538.0</td>\n",
       "      <td>0.285264</td>\n",
       "      <td>0.451629</td>\n",
       "      <td>0.0</td>\n",
       "      <td>0.0</td>\n",
       "      <td>0.0</td>\n",
       "      <td>1.0</td>\n",
       "      <td>1.0</td>\n",
       "    </tr>\n",
       "    <tr>\n",
       "      <th>Mobile</th>\n",
       "      <td>1428.0</td>\n",
       "      <td>2518.448880</td>\n",
       "      <td>1457.420581</td>\n",
       "      <td>7.0</td>\n",
       "      <td>1236.75</td>\n",
       "      <td>2512.5</td>\n",
       "      <td>3807.75</td>\n",
       "      <td>4991.0</td>\n",
       "      <td>1428.0</td>\n",
       "      <td>41.724790</td>\n",
       "      <td>...</td>\n",
       "      <td>201.6100</td>\n",
       "      <td>387.98</td>\n",
       "      <td>1428.0</td>\n",
       "      <td>0.264706</td>\n",
       "      <td>0.441331</td>\n",
       "      <td>0.0</td>\n",
       "      <td>0.0</td>\n",
       "      <td>0.0</td>\n",
       "      <td>1.0</td>\n",
       "      <td>1.0</td>\n",
       "    </tr>\n",
       "    <tr>\n",
       "      <th>Other</th>\n",
       "      <td>99.0</td>\n",
       "      <td>2411.656566</td>\n",
       "      <td>1386.399927</td>\n",
       "      <td>80.0</td>\n",
       "      <td>1226.00</td>\n",
       "      <td>2379.0</td>\n",
       "      <td>3541.50</td>\n",
       "      <td>4988.0</td>\n",
       "      <td>99.0</td>\n",
       "      <td>41.282828</td>\n",
       "      <td>...</td>\n",
       "      <td>191.7000</td>\n",
       "      <td>302.48</td>\n",
       "      <td>99.0</td>\n",
       "      <td>0.222222</td>\n",
       "      <td>0.417855</td>\n",
       "      <td>0.0</td>\n",
       "      <td>0.0</td>\n",
       "      <td>0.0</td>\n",
       "      <td>0.0</td>\n",
       "      <td>1.0</td>\n",
       "    </tr>\n",
       "    <tr>\n",
       "      <th>Tablet</th>\n",
       "      <td>934.0</td>\n",
       "      <td>2534.595289</td>\n",
       "      <td>1452.234322</td>\n",
       "      <td>5.0</td>\n",
       "      <td>1271.25</td>\n",
       "      <td>2513.0</td>\n",
       "      <td>3753.25</td>\n",
       "      <td>5000.0</td>\n",
       "      <td>934.0</td>\n",
       "      <td>41.844754</td>\n",
       "      <td>...</td>\n",
       "      <td>197.7025</td>\n",
       "      <td>377.98</td>\n",
       "      <td>934.0</td>\n",
       "      <td>0.254818</td>\n",
       "      <td>0.435992</td>\n",
       "      <td>0.0</td>\n",
       "      <td>0.0</td>\n",
       "      <td>0.0</td>\n",
       "      <td>1.0</td>\n",
       "      <td>1.0</td>\n",
       "    </tr>\n",
       "  </tbody>\n",
       "</table>\n",
       "<p>4 rows × 64 columns</p>\n",
       "</div>"
      ],
      "text/plain": [
       "         userID                                                            \\\n",
       "          count         mean          std   min      25%     50%      75%   \n",
       "device                                                                      \n",
       "Desktop  2538.0  2481.464933  1435.264432   1.0  1260.25  2497.5  3733.75   \n",
       "Mobile   1428.0  2518.448880  1457.420581   7.0  1236.75  2512.5  3807.75   \n",
       "Other      99.0  2411.656566  1386.399927  80.0  1226.00  2379.0  3541.50   \n",
       "Tablet    934.0  2534.595289  1452.234322   5.0  1271.25  2513.0  3753.25   \n",
       "\n",
       "                    age             ... cart_value         checkout_status  \\\n",
       "            max   count       mean  ...        75%     max           count   \n",
       "device                              ...                                      \n",
       "Desktop  4999.0  2538.0  41.338849  ...   197.2450  427.40          2538.0   \n",
       "Mobile   4991.0  1428.0  41.724790  ...   201.6100  387.98          1428.0   \n",
       "Other    4988.0    99.0  41.282828  ...   191.7000  302.48            99.0   \n",
       "Tablet   5000.0   934.0  41.844754  ...   197.7025  377.98           934.0   \n",
       "\n",
       "                                                      \n",
       "             mean       std  min  25%  50%  75%  max  \n",
       "device                                                \n",
       "Desktop  0.285264  0.451629  0.0  0.0  0.0  1.0  1.0  \n",
       "Mobile   0.264706  0.441331  0.0  0.0  0.0  1.0  1.0  \n",
       "Other    0.222222  0.417855  0.0  0.0  0.0  0.0  1.0  \n",
       "Tablet   0.254818  0.435992  0.0  0.0  0.0  1.0  1.0  \n",
       "\n",
       "[4 rows x 64 columns]"
      ]
     },
     "execution_count": 151,
     "metadata": {},
     "output_type": "execute_result"
    }
   ],
   "source": [
    "df_test.groupby('device').describe()"
   ]
  },
  {
   "cell_type": "code",
   "execution_count": 152,
   "metadata": {},
   "outputs": [],
   "source": [
    "#Obtain descriptive statistics by location\n",
    "df_test['location'] = df_test['location'].fillna('other')"
   ]
  },
  {
   "cell_type": "code",
   "execution_count": 153,
   "metadata": {},
   "outputs": [
    {
     "data": {
      "text/html": [
       "<div>\n",
       "<style scoped>\n",
       "    .dataframe tbody tr th:only-of-type {\n",
       "        vertical-align: middle;\n",
       "    }\n",
       "\n",
       "    .dataframe tbody tr th {\n",
       "        vertical-align: top;\n",
       "    }\n",
       "\n",
       "    .dataframe thead tr th {\n",
       "        text-align: left;\n",
       "    }\n",
       "\n",
       "    .dataframe thead tr:last-of-type th {\n",
       "        text-align: right;\n",
       "    }\n",
       "</style>\n",
       "<table border=\"1\" class=\"dataframe\">\n",
       "  <thead>\n",
       "    <tr>\n",
       "      <th></th>\n",
       "      <th colspan=\"8\" halign=\"left\">userID</th>\n",
       "      <th colspan=\"2\" halign=\"left\">age</th>\n",
       "      <th>...</th>\n",
       "      <th colspan=\"2\" halign=\"left\">cart_value</th>\n",
       "      <th colspan=\"8\" halign=\"left\">checkout_status</th>\n",
       "    </tr>\n",
       "    <tr>\n",
       "      <th></th>\n",
       "      <th>count</th>\n",
       "      <th>mean</th>\n",
       "      <th>std</th>\n",
       "      <th>min</th>\n",
       "      <th>25%</th>\n",
       "      <th>50%</th>\n",
       "      <th>75%</th>\n",
       "      <th>max</th>\n",
       "      <th>count</th>\n",
       "      <th>mean</th>\n",
       "      <th>...</th>\n",
       "      <th>75%</th>\n",
       "      <th>max</th>\n",
       "      <th>count</th>\n",
       "      <th>mean</th>\n",
       "      <th>std</th>\n",
       "      <th>min</th>\n",
       "      <th>25%</th>\n",
       "      <th>50%</th>\n",
       "      <th>75%</th>\n",
       "      <th>max</th>\n",
       "    </tr>\n",
       "    <tr>\n",
       "      <th>location</th>\n",
       "      <th></th>\n",
       "      <th></th>\n",
       "      <th></th>\n",
       "      <th></th>\n",
       "      <th></th>\n",
       "      <th></th>\n",
       "      <th></th>\n",
       "      <th></th>\n",
       "      <th></th>\n",
       "      <th></th>\n",
       "      <th></th>\n",
       "      <th></th>\n",
       "      <th></th>\n",
       "      <th></th>\n",
       "      <th></th>\n",
       "      <th></th>\n",
       "      <th></th>\n",
       "      <th></th>\n",
       "      <th></th>\n",
       "      <th></th>\n",
       "      <th></th>\n",
       "    </tr>\n",
       "  </thead>\n",
       "  <tbody>\n",
       "    <tr>\n",
       "      <th>Location 1</th>\n",
       "      <td>979.0</td>\n",
       "      <td>2428.888662</td>\n",
       "      <td>1460.439111</td>\n",
       "      <td>1.0</td>\n",
       "      <td>1115.00</td>\n",
       "      <td>2431.0</td>\n",
       "      <td>3683.5</td>\n",
       "      <td>4995.0</td>\n",
       "      <td>979.0</td>\n",
       "      <td>42.291113</td>\n",
       "      <td>...</td>\n",
       "      <td>199.9500</td>\n",
       "      <td>394.77</td>\n",
       "      <td>979.0</td>\n",
       "      <td>0.282942</td>\n",
       "      <td>0.450659</td>\n",
       "      <td>0.0</td>\n",
       "      <td>0.0</td>\n",
       "      <td>0.0</td>\n",
       "      <td>1.0</td>\n",
       "      <td>1.0</td>\n",
       "    </tr>\n",
       "    <tr>\n",
       "      <th>Location 2</th>\n",
       "      <td>950.0</td>\n",
       "      <td>2495.070526</td>\n",
       "      <td>1413.792983</td>\n",
       "      <td>4.0</td>\n",
       "      <td>1335.50</td>\n",
       "      <td>2517.0</td>\n",
       "      <td>3674.0</td>\n",
       "      <td>4997.0</td>\n",
       "      <td>950.0</td>\n",
       "      <td>41.648421</td>\n",
       "      <td>...</td>\n",
       "      <td>198.9475</td>\n",
       "      <td>357.77</td>\n",
       "      <td>950.0</td>\n",
       "      <td>0.266316</td>\n",
       "      <td>0.442264</td>\n",
       "      <td>0.0</td>\n",
       "      <td>0.0</td>\n",
       "      <td>0.0</td>\n",
       "      <td>1.0</td>\n",
       "      <td>1.0</td>\n",
       "    </tr>\n",
       "    <tr>\n",
       "      <th>Location 3</th>\n",
       "      <td>1014.0</td>\n",
       "      <td>2477.388560</td>\n",
       "      <td>1437.144060</td>\n",
       "      <td>2.0</td>\n",
       "      <td>1248.25</td>\n",
       "      <td>2378.5</td>\n",
       "      <td>3712.5</td>\n",
       "      <td>5000.0</td>\n",
       "      <td>1014.0</td>\n",
       "      <td>41.763314</td>\n",
       "      <td>...</td>\n",
       "      <td>195.4400</td>\n",
       "      <td>427.40</td>\n",
       "      <td>1014.0</td>\n",
       "      <td>0.261341</td>\n",
       "      <td>0.439582</td>\n",
       "      <td>0.0</td>\n",
       "      <td>0.0</td>\n",
       "      <td>0.0</td>\n",
       "      <td>1.0</td>\n",
       "      <td>1.0</td>\n",
       "    </tr>\n",
       "    <tr>\n",
       "      <th>Location 4</th>\n",
       "      <td>1056.0</td>\n",
       "      <td>2508.631629</td>\n",
       "      <td>1470.328379</td>\n",
       "      <td>3.0</td>\n",
       "      <td>1219.50</td>\n",
       "      <td>2517.5</td>\n",
       "      <td>3796.0</td>\n",
       "      <td>4998.0</td>\n",
       "      <td>1056.0</td>\n",
       "      <td>40.892992</td>\n",
       "      <td>...</td>\n",
       "      <td>199.5425</td>\n",
       "      <td>353.80</td>\n",
       "      <td>1056.0</td>\n",
       "      <td>0.284091</td>\n",
       "      <td>0.451194</td>\n",
       "      <td>0.0</td>\n",
       "      <td>0.0</td>\n",
       "      <td>0.0</td>\n",
       "      <td>1.0</td>\n",
       "      <td>1.0</td>\n",
       "    </tr>\n",
       "    <tr>\n",
       "      <th>Location 5</th>\n",
       "      <td>971.0</td>\n",
       "      <td>2598.049434</td>\n",
       "      <td>1434.875326</td>\n",
       "      <td>6.0</td>\n",
       "      <td>1352.50</td>\n",
       "      <td>2664.0</td>\n",
       "      <td>3849.0</td>\n",
       "      <td>4999.0</td>\n",
       "      <td>971.0</td>\n",
       "      <td>41.085479</td>\n",
       "      <td>...</td>\n",
       "      <td>197.7800</td>\n",
       "      <td>359.00</td>\n",
       "      <td>971.0</td>\n",
       "      <td>0.266735</td>\n",
       "      <td>0.442481</td>\n",
       "      <td>0.0</td>\n",
       "      <td>0.0</td>\n",
       "      <td>0.0</td>\n",
       "      <td>1.0</td>\n",
       "      <td>1.0</td>\n",
       "    </tr>\n",
       "    <tr>\n",
       "      <th>other</th>\n",
       "      <td>29.0</td>\n",
       "      <td>2354.379310</td>\n",
       "      <td>1310.371523</td>\n",
       "      <td>60.0</td>\n",
       "      <td>1460.00</td>\n",
       "      <td>2352.0</td>\n",
       "      <td>3325.0</td>\n",
       "      <td>4951.0</td>\n",
       "      <td>29.0</td>\n",
       "      <td>44.034483</td>\n",
       "      <td>...</td>\n",
       "      <td>195.4400</td>\n",
       "      <td>237.64</td>\n",
       "      <td>29.0</td>\n",
       "      <td>0.275862</td>\n",
       "      <td>0.454859</td>\n",
       "      <td>0.0</td>\n",
       "      <td>0.0</td>\n",
       "      <td>0.0</td>\n",
       "      <td>1.0</td>\n",
       "      <td>1.0</td>\n",
       "    </tr>\n",
       "  </tbody>\n",
       "</table>\n",
       "<p>6 rows × 64 columns</p>\n",
       "</div>"
      ],
      "text/plain": [
       "            userID                                                           \\\n",
       "             count         mean          std   min      25%     50%     75%   \n",
       "location                                                                      \n",
       "Location 1   979.0  2428.888662  1460.439111   1.0  1115.00  2431.0  3683.5   \n",
       "Location 2   950.0  2495.070526  1413.792983   4.0  1335.50  2517.0  3674.0   \n",
       "Location 3  1014.0  2477.388560  1437.144060   2.0  1248.25  2378.5  3712.5   \n",
       "Location 4  1056.0  2508.631629  1470.328379   3.0  1219.50  2517.5  3796.0   \n",
       "Location 5   971.0  2598.049434  1434.875326   6.0  1352.50  2664.0  3849.0   \n",
       "other         29.0  2354.379310  1310.371523  60.0  1460.00  2352.0  3325.0   \n",
       "\n",
       "                       age             ... cart_value         checkout_status  \\\n",
       "               max   count       mean  ...        75%     max           count   \n",
       "location                               ...                                      \n",
       "Location 1  4995.0   979.0  42.291113  ...   199.9500  394.77           979.0   \n",
       "Location 2  4997.0   950.0  41.648421  ...   198.9475  357.77           950.0   \n",
       "Location 3  5000.0  1014.0  41.763314  ...   195.4400  427.40          1014.0   \n",
       "Location 4  4998.0  1056.0  40.892992  ...   199.5425  353.80          1056.0   \n",
       "Location 5  4999.0   971.0  41.085479  ...   197.7800  359.00           971.0   \n",
       "other       4951.0    29.0  44.034483  ...   195.4400  237.64            29.0   \n",
       "\n",
       "                                                         \n",
       "                mean       std  min  25%  50%  75%  max  \n",
       "location                                                 \n",
       "Location 1  0.282942  0.450659  0.0  0.0  0.0  1.0  1.0  \n",
       "Location 2  0.266316  0.442264  0.0  0.0  0.0  1.0  1.0  \n",
       "Location 3  0.261341  0.439582  0.0  0.0  0.0  1.0  1.0  \n",
       "Location 4  0.284091  0.451194  0.0  0.0  0.0  1.0  1.0  \n",
       "Location 5  0.266735  0.442481  0.0  0.0  0.0  1.0  1.0  \n",
       "other       0.275862  0.454859  0.0  0.0  0.0  1.0  1.0  \n",
       "\n",
       "[6 rows x 64 columns]"
      ]
     },
     "execution_count": 153,
     "metadata": {},
     "output_type": "execute_result"
    }
   ],
   "source": [
    "df_test.groupby('location').describe()"
   ]
  },
  {
   "cell_type": "code",
   "execution_count": 154,
   "metadata": {},
   "outputs": [
    {
     "data": {
      "text/html": [
       "<div>\n",
       "<style scoped>\n",
       "    .dataframe tbody tr th:only-of-type {\n",
       "        vertical-align: middle;\n",
       "    }\n",
       "\n",
       "    .dataframe tbody tr th {\n",
       "        vertical-align: top;\n",
       "    }\n",
       "\n",
       "    .dataframe thead th {\n",
       "        text-align: right;\n",
       "    }\n",
       "</style>\n",
       "<table border=\"1\" class=\"dataframe\">\n",
       "  <thead>\n",
       "    <tr style=\"text-align: right;\">\n",
       "      <th></th>\n",
       "      <th>userID</th>\n",
       "      <th>age</th>\n",
       "      <th>sessions</th>\n",
       "      <th>time_spent</th>\n",
       "      <th>pages_visited</th>\n",
       "      <th>cart_items</th>\n",
       "      <th>cart_value</th>\n",
       "      <th>checkout_status</th>\n",
       "    </tr>\n",
       "  </thead>\n",
       "  <tbody>\n",
       "    <tr>\n",
       "      <th>count</th>\n",
       "      <td>4999.000000</td>\n",
       "      <td>4999.000000</td>\n",
       "      <td>4999.000000</td>\n",
       "      <td>4999.000000</td>\n",
       "      <td>4999.000000</td>\n",
       "      <td>4999.000000</td>\n",
       "      <td>4999.000000</td>\n",
       "      <td>4999.000000</td>\n",
       "    </tr>\n",
       "    <tr>\n",
       "      <th>mean</th>\n",
       "      <td>2500.573915</td>\n",
       "      <td>41.542509</td>\n",
       "      <td>5.027205</td>\n",
       "      <td>25.159160</td>\n",
       "      <td>5.774355</td>\n",
       "      <td>14.965593</td>\n",
       "      <td>149.424353</td>\n",
       "      <td>0.272454</td>\n",
       "    </tr>\n",
       "    <tr>\n",
       "      <th>std</th>\n",
       "      <td>1443.654943</td>\n",
       "      <td>14.040833</td>\n",
       "      <td>2.595218</td>\n",
       "      <td>9.826407</td>\n",
       "      <td>2.571097</td>\n",
       "      <td>6.046672</td>\n",
       "      <td>68.705704</td>\n",
       "      <td>0.445267</td>\n",
       "    </tr>\n",
       "    <tr>\n",
       "      <th>min</th>\n",
       "      <td>1.000000</td>\n",
       "      <td>18.000000</td>\n",
       "      <td>1.000000</td>\n",
       "      <td>1.000000</td>\n",
       "      <td>1.000000</td>\n",
       "      <td>5.000000</td>\n",
       "      <td>20.410000</td>\n",
       "      <td>0.000000</td>\n",
       "    </tr>\n",
       "    <tr>\n",
       "      <th>25%</th>\n",
       "      <td>1250.500000</td>\n",
       "      <td>29.000000</td>\n",
       "      <td>3.000000</td>\n",
       "      <td>18.267083</td>\n",
       "      <td>4.000000</td>\n",
       "      <td>10.000000</td>\n",
       "      <td>92.465000</td>\n",
       "      <td>0.000000</td>\n",
       "    </tr>\n",
       "    <tr>\n",
       "      <th>50%</th>\n",
       "      <td>2501.000000</td>\n",
       "      <td>42.000000</td>\n",
       "      <td>5.000000</td>\n",
       "      <td>25.036202</td>\n",
       "      <td>6.000000</td>\n",
       "      <td>15.000000</td>\n",
       "      <td>143.340000</td>\n",
       "      <td>0.000000</td>\n",
       "    </tr>\n",
       "    <tr>\n",
       "      <th>75%</th>\n",
       "      <td>3750.500000</td>\n",
       "      <td>54.000000</td>\n",
       "      <td>7.000000</td>\n",
       "      <td>32.001153</td>\n",
       "      <td>8.000000</td>\n",
       "      <td>20.000000</td>\n",
       "      <td>198.330000</td>\n",
       "      <td>1.000000</td>\n",
       "    </tr>\n",
       "    <tr>\n",
       "      <th>max</th>\n",
       "      <td>5000.000000</td>\n",
       "      <td>65.000000</td>\n",
       "      <td>9.000000</td>\n",
       "      <td>90.000000</td>\n",
       "      <td>12.000000</td>\n",
       "      <td>25.000000</td>\n",
       "      <td>427.400000</td>\n",
       "      <td>1.000000</td>\n",
       "    </tr>\n",
       "  </tbody>\n",
       "</table>\n",
       "</div>"
      ],
      "text/plain": [
       "            userID          age     sessions   time_spent  pages_visited  \\\n",
       "count  4999.000000  4999.000000  4999.000000  4999.000000    4999.000000   \n",
       "mean   2500.573915    41.542509     5.027205    25.159160       5.774355   \n",
       "std    1443.654943    14.040833     2.595218     9.826407       2.571097   \n",
       "min       1.000000    18.000000     1.000000     1.000000       1.000000   \n",
       "25%    1250.500000    29.000000     3.000000    18.267083       4.000000   \n",
       "50%    2501.000000    42.000000     5.000000    25.036202       6.000000   \n",
       "75%    3750.500000    54.000000     7.000000    32.001153       8.000000   \n",
       "max    5000.000000    65.000000     9.000000    90.000000      12.000000   \n",
       "\n",
       "        cart_items   cart_value  checkout_status  \n",
       "count  4999.000000  4999.000000      4999.000000  \n",
       "mean     14.965593   149.424353         0.272454  \n",
       "std       6.046672    68.705704         0.445267  \n",
       "min       5.000000    20.410000         0.000000  \n",
       "25%      10.000000    92.465000         0.000000  \n",
       "50%      15.000000   143.340000         0.000000  \n",
       "75%      20.000000   198.330000         1.000000  \n",
       "max      25.000000   427.400000         1.000000  "
      ]
     },
     "execution_count": 154,
     "metadata": {},
     "output_type": "execute_result"
    }
   ],
   "source": [
    "df_test.describe()"
   ]
  },
  {
   "attachments": {},
   "cell_type": "markdown",
   "metadata": {},
   "source": [
    "In the above, we comparing the characteristics of the \"Other\" device and location with the remaining device and location. It seems that the statistics are quite similar. The mean, standard deviation, distribution, median, and quartiles are in and around what the other device and location have. It seems there isn't much bias in our data."
   ]
  },
  {
   "cell_type": "code",
   "execution_count": 155,
   "metadata": {},
   "outputs": [
    {
     "name": "stdout",
     "output_type": "stream",
     "text": [
      "<class 'pandas.core.frame.DataFrame'>\n",
      "Index: 4999 entries, 0 to 4999\n",
      "Data columns (total 10 columns):\n",
      " #   Column           Non-Null Count  Dtype  \n",
      "---  ------           --------------  -----  \n",
      " 0   userID           4999 non-null   int64  \n",
      " 1   age              4999 non-null   int64  \n",
      " 2   sessions         4999 non-null   int64  \n",
      " 3   time_spent       4999 non-null   float64\n",
      " 4   pages_visited    4999 non-null   int64  \n",
      " 5   cart_items       4999 non-null   int64  \n",
      " 6   cart_value       4999 non-null   float64\n",
      " 7   checkout_status  4999 non-null   int64  \n",
      " 8   device           4999 non-null   object \n",
      " 9   location         4999 non-null   object \n",
      "dtypes: float64(2), int64(6), object(2)\n",
      "memory usage: 429.6+ KB\n"
     ]
    }
   ],
   "source": [
    "df_test.info()"
   ]
  },
  {
   "attachments": {},
   "cell_type": "markdown",
   "metadata": {},
   "source": [
    "To check outliers, we can use box plot."
   ]
  },
  {
   "cell_type": "code",
   "execution_count": 156,
   "metadata": {},
   "outputs": [
    {
     "data": {
      "text/plain": [
       "<Axes: ylabel='time_spent'>"
      ]
     },
     "execution_count": 156,
     "metadata": {},
     "output_type": "execute_result"
    },
    {
     "data": {
      "image/png": "[encoded data removed]",
      "text/plain": [
       "<Figure size 640x480 with 1 Axes>"
      ]
     },
     "metadata": {},
     "output_type": "display_data"
    }
   ],
   "source": [
    "#outliers for time_spent\n",
    "sns.boxplot(data = df_test, y='time_spent')"
   ]
  },
  {
   "attachments": {},
   "cell_type": "markdown",
   "metadata": {},
   "source": [
    "It seems that the time spent column has outliers, but they all above 60. We can drop these observations.\n",
    "Then we can do the same step for cart value."
   ]
  },
  {
   "cell_type": "code",
   "execution_count": 163,
   "metadata": {},
   "outputs": [
    {
     "data": {
      "text/plain": [
       "Index([284, 2494, 2833, 3957], dtype='int64')"
      ]
     },
     "execution_count": 163,
     "metadata": {},
     "output_type": "execute_result"
    }
   ],
   "source": [
    "# Find index values of observations above 60\n",
    "drop_time_outliers = df_test[df_test['time_spent']>60].index\n",
    "drop_time_outliers"
   ]
  },
  {
   "cell_type": "code",
   "execution_count": 164,
   "metadata": {},
   "outputs": [],
   "source": [
    "df_test.drop(drop_time_outliers, inplace=True)"
   ]
  },
  {
   "cell_type": "code",
   "execution_count": 165,
   "metadata": {},
   "outputs": [
    {
     "name": "stdout",
     "output_type": "stream",
     "text": [
      "<class 'pandas.core.frame.DataFrame'>\n",
      "Index: 4995 entries, 0 to 4999\n",
      "Data columns (total 10 columns):\n",
      " #   Column           Non-Null Count  Dtype  \n",
      "---  ------           --------------  -----  \n",
      " 0   userID           4995 non-null   int64  \n",
      " 1   age              4995 non-null   int64  \n",
      " 2   sessions         4995 non-null   int64  \n",
      " 3   time_spent       4995 non-null   float64\n",
      " 4   pages_visited    4995 non-null   int64  \n",
      " 5   cart_items       4995 non-null   int64  \n",
      " 6   cart_value       4995 non-null   float64\n",
      " 7   checkout_status  4995 non-null   int64  \n",
      " 8   device           4995 non-null   object \n",
      " 9   location         4995 non-null   object \n",
      "dtypes: float64(2), int64(6), object(2)\n",
      "memory usage: 429.3+ KB\n"
     ]
    }
   ],
   "source": [
    "# 4 entries dropped with 4995 left\n",
    "df_test.info()"
   ]
  },
  {
   "cell_type": "code",
   "execution_count": 166,
   "metadata": {},
   "outputs": [
    {
     "data": {
      "text/plain": [
       "<Axes: ylabel='cart_value'>"
      ]
     },
     "execution_count": 166,
     "metadata": {},
     "output_type": "execute_result"
    },
    {
     "data": {
      "image/png": "[encoded data removed]",
      "text/plain": [
       "<Figure size 640x480 with 1 Axes>"
      ]
     },
     "metadata": {},
     "output_type": "display_data"
    }
   ],
   "source": [
    "#outliers for cart_value\n",
    "sns.boxplot(data = df_test, y='cart_value')"
   ]
  },
  {
   "cell_type": "code",
   "execution_count": 167,
   "metadata": {},
   "outputs": [
    {
     "data": {
      "text/plain": [
       "Index([263, 445, 1268, 1479, 2615, 2664, 2769, 3200], dtype='int64')"
      ]
     },
     "execution_count": 167,
     "metadata": {},
     "output_type": "execute_result"
    }
   ],
   "source": [
    "# Find index values of observations above 60\n",
    "drop_cart_outliers = df_test[df_test['cart_value']>360].index\n",
    "drop_cart_outliers"
   ]
  },
  {
   "cell_type": "code",
   "execution_count": 168,
   "metadata": {},
   "outputs": [],
   "source": [
    "df_test.drop(drop_cart_outliers, inplace=True)"
   ]
  },
  {
   "cell_type": "code",
   "execution_count": 169,
   "metadata": {},
   "outputs": [
    {
     "name": "stdout",
     "output_type": "stream",
     "text": [
      "<class 'pandas.core.frame.DataFrame'>\n",
      "Index: 4987 entries, 0 to 4999\n",
      "Data columns (total 10 columns):\n",
      " #   Column           Non-Null Count  Dtype  \n",
      "---  ------           --------------  -----  \n",
      " 0   userID           4987 non-null   int64  \n",
      " 1   age              4987 non-null   int64  \n",
      " 2   sessions         4987 non-null   int64  \n",
      " 3   time_spent       4987 non-null   float64\n",
      " 4   pages_visited    4987 non-null   int64  \n",
      " 5   cart_items       4987 non-null   int64  \n",
      " 6   cart_value       4987 non-null   float64\n",
      " 7   checkout_status  4987 non-null   int64  \n",
      " 8   device           4987 non-null   object \n",
      " 9   location         4987 non-null   object \n",
      "dtypes: float64(2), int64(6), object(2)\n",
      "memory usage: 428.6+ KB\n"
     ]
    }
   ],
   "source": [
    "df_test.info()"
   ]
  },
  {
   "attachments": {},
   "cell_type": "markdown",
   "metadata": {},
   "source": [
    "Finally, we can drop any duplicate entries."
   ]
  },
  {
   "cell_type": "code",
   "execution_count": 170,
   "metadata": {},
   "outputs": [],
   "source": [
    "#drop duplicates\n",
    "df_test.drop_duplicates(inplace=True)"
   ]
  },
  {
   "cell_type": "code",
   "execution_count": 171,
   "metadata": {},
   "outputs": [
    {
     "name": "stdout",
     "output_type": "stream",
     "text": [
      "<class 'pandas.core.frame.DataFrame'>\n",
      "Index: 4987 entries, 0 to 4999\n",
      "Data columns (total 10 columns):\n",
      " #   Column           Non-Null Count  Dtype  \n",
      "---  ------           --------------  -----  \n",
      " 0   userID           4987 non-null   int64  \n",
      " 1   age              4987 non-null   int64  \n",
      " 2   sessions         4987 non-null   int64  \n",
      " 3   time_spent       4987 non-null   float64\n",
      " 4   pages_visited    4987 non-null   int64  \n",
      " 5   cart_items       4987 non-null   int64  \n",
      " 6   cart_value       4987 non-null   float64\n",
      " 7   checkout_status  4987 non-null   int64  \n",
      " 8   device           4987 non-null   object \n",
      " 9   location         4987 non-null   object \n",
      "dtypes: float64(2), int64(6), object(2)\n",
      "memory usage: 428.6+ KB\n"
     ]
    }
   ],
   "source": [
    "df_test.info()"
   ]
  },
  {
   "cell_type": "code",
   "execution_count": 172,
   "metadata": {},
   "outputs": [
    {
     "data": {
      "text/plain": [
       "<Axes: xlabel='time_spent', ylabel='Count'>"
      ]
     },
     "execution_count": 172,
     "metadata": {},
     "output_type": "execute_result"
    },
    {
     "data": {
      "image/png": "[encoded data removed]",
      "text/plain": [
       "<Figure size 640x480 with 1 Axes>"
      ]
     },
     "metadata": {},
     "output_type": "display_data"
    }
   ],
   "source": [
    "#data exploration\n",
    "sns.histplot(df_test['time_spent'])"
   ]
  },
  {
   "cell_type": "code",
   "execution_count": 177,
   "metadata": {},
   "outputs": [
    {
     "name": "stdout",
     "output_type": "stream",
     "text": [
      "0.006178683402456276\n",
      "-0.5743335138662866\n"
     ]
    }
   ],
   "source": [
    "from scipy import stats\n",
    "print(stats.skew(df_test['time_spent']))\n",
    "print(stats.kurtosis(df_test['time_spent']))"
   ]
  },
  {
   "cell_type": "code",
   "execution_count": 175,
   "metadata": {},
   "outputs": [
    {
     "data": {
      "text/plain": [
       "<Axes: xlabel='cart_value', ylabel='Count'>"
      ]
     },
     "execution_count": 175,
     "metadata": {},
     "output_type": "execute_result"
    },
    {
     "data": {
      "image/png": "[encoded data removed]",
      "text/plain": [
       "<Figure size 640x480 with 1 Axes>"
      ]
     },
     "metadata": {},
     "output_type": "display_data"
    }
   ],
   "source": [
    "sns.histplot(df_test['cart_value'])"
   ]
  },
  {
   "cell_type": "code",
   "execution_count": 176,
   "metadata": {},
   "outputs": [
    {
     "name": "stdout",
     "output_type": "stream",
     "text": [
      "0.4020934095812169\n",
      "-0.5934894311144747\n"
     ]
    }
   ],
   "source": [
    "print(stats.skew(df_test['cart_value']))\n",
    "print(stats.kurtosis(df_test['cart_value']))"
   ]
  },
  {
   "attachments": {},
   "cell_type": "markdown",
   "metadata": {},
   "source": [
    "We can see histogram plot for time spent seems fairly normal, with average time spent around 22. The skew for time spent is 0.006, which is fairly close to 0 and supports the result of normal distribution. Then we calculate kurtosis since the distribution is normal. The kurtosis of time spent is -0.57, which indicates a slightly Platykurtic distribution and also represent less volatility.\n",
    "\n",
    "The histogram plot for cart value is nearly normal but it appears a little right skewed. This means that most people's cart value are on the lower side, with some people's cart valueon the more expensive side. \n",
    "The skew for time spent is 0.4, which support our digram that it's a little right skew."
   ]
  },
  {
   "cell_type": "code",
   "execution_count": 179,
   "metadata": {},
   "outputs": [
    {
     "data": {
      "text/html": [
       "<div>\n",
       "<style scoped>\n",
       "    .dataframe tbody tr th:only-of-type {\n",
       "        vertical-align: middle;\n",
       "    }\n",
       "\n",
       "    .dataframe tbody tr th {\n",
       "        vertical-align: top;\n",
       "    }\n",
       "\n",
       "    .dataframe thead th {\n",
       "        text-align: right;\n",
       "    }\n",
       "</style>\n",
       "<table border=\"1\" class=\"dataframe\">\n",
       "  <thead>\n",
       "    <tr style=\"text-align: right;\">\n",
       "      <th></th>\n",
       "      <th>sum</th>\n",
       "      <th>mean</th>\n",
       "      <th>median</th>\n",
       "      <th>count</th>\n",
       "    </tr>\n",
       "    <tr>\n",
       "      <th>checkout_status</th>\n",
       "      <th></th>\n",
       "      <th></th>\n",
       "      <th></th>\n",
       "      <th></th>\n",
       "    </tr>\n",
       "  </thead>\n",
       "  <tbody>\n",
       "    <tr>\n",
       "      <th>0</th>\n",
       "      <td>82558.602689</td>\n",
       "      <td>22.774787</td>\n",
       "      <td>21.625771</td>\n",
       "      <td>3625</td>\n",
       "    </tr>\n",
       "    <tr>\n",
       "      <th>1</th>\n",
       "      <td>42655.004545</td>\n",
       "      <td>31.317918</td>\n",
       "      <td>30.943031</td>\n",
       "      <td>1362</td>\n",
       "    </tr>\n",
       "  </tbody>\n",
       "</table>\n",
       "</div>"
      ],
      "text/plain": [
       "                          sum       mean     median  count\n",
       "checkout_status                                           \n",
       "0                82558.602689  22.774787  21.625771   3625\n",
       "1                42655.004545  31.317918  30.943031   1362"
      ]
     },
     "execution_count": 179,
     "metadata": {},
     "output_type": "execute_result"
    }
   ],
   "source": [
    "#time spent analysis\n",
    "time_by_checkout = df_test.groupby('checkout_status')['time_spent'].aggregate(['sum','mean','median','count'])\n",
    "time_by_checkout"
   ]
  },
  {
   "cell_type": "code",
   "execution_count": 180,
   "metadata": {},
   "outputs": [
    {
     "data": {
      "text/plain": [
       "<Axes: xlabel='checkout_status'>"
      ]
     },
     "execution_count": 180,
     "metadata": {},
     "output_type": "execute_result"
    },
    {
     "data": {
      "image/png": "[encoded data removed]",
      "text/plain": [
       "<Figure size 640x480 with 1 Axes>"
      ]
     },
     "metadata": {},
     "output_type": "display_data"
    }
   ],
   "source": [
    "time_by_checkout['sum'].sort_values(ascending=False).plot(kind='bar')"
   ]
  },
  {
   "cell_type": "code",
   "execution_count": 181,
   "metadata": {},
   "outputs": [
    {
     "data": {
      "text/plain": [
       "<Axes: xlabel='checkout_status'>"
      ]
     },
     "execution_count": 181,
     "metadata": {},
     "output_type": "execute_result"
    },
    {
     "data": {
      "image/png": "[encoded data removed]",
      "text/plain": [
       "<Figure size 640x480 with 1 Axes>"
      ]
     },
     "metadata": {},
     "output_type": "display_data"
    }
   ],
   "source": [
    "time_by_checkout['mean'].sort_values(ascending=False).plot(kind='bar')"
   ]
  },
  {
   "attachments": {},
   "cell_type": "markdown",
   "metadata": {},
   "source": [
    "People who check out appears to spend more time on browsing the website, which mean value around 31 minutes.\n",
    "On the other hand, People who didn't check out appears to spend more time on browsing the website, which mean value around  minutes."
   ]
  },
  {
   "cell_type": "code",
   "execution_count": 182,
   "metadata": {},
   "outputs": [
    {
     "data": {
      "text/html": [
       "<div>\n",
       "<style scoped>\n",
       "    .dataframe tbody tr th:only-of-type {\n",
       "        vertical-align: middle;\n",
       "    }\n",
       "\n",
       "    .dataframe tbody tr th {\n",
       "        vertical-align: top;\n",
       "    }\n",
       "\n",
       "    .dataframe thead th {\n",
       "        text-align: right;\n",
       "    }\n",
       "</style>\n",
       "<table border=\"1\" class=\"dataframe\">\n",
       "  <thead>\n",
       "    <tr style=\"text-align: right;\">\n",
       "      <th></th>\n",
       "      <th>sum</th>\n",
       "      <th>mean</th>\n",
       "      <th>median</th>\n",
       "      <th>count</th>\n",
       "    </tr>\n",
       "    <tr>\n",
       "      <th>checkout_status</th>\n",
       "      <th></th>\n",
       "      <th></th>\n",
       "      <th></th>\n",
       "      <th></th>\n",
       "    </tr>\n",
       "  </thead>\n",
       "  <tbody>\n",
       "    <tr>\n",
       "      <th>0</th>\n",
       "      <td>551446.41</td>\n",
       "      <td>152.123148</td>\n",
       "      <td>146.91</td>\n",
       "      <td>3625</td>\n",
       "    </tr>\n",
       "    <tr>\n",
       "      <th>1</th>\n",
       "      <td>191802.58</td>\n",
       "      <td>140.824214</td>\n",
       "      <td>136.29</td>\n",
       "      <td>1362</td>\n",
       "    </tr>\n",
       "  </tbody>\n",
       "</table>\n",
       "</div>"
      ],
      "text/plain": [
       "                       sum        mean  median  count\n",
       "checkout_status                                      \n",
       "0                551446.41  152.123148  146.91   3625\n",
       "1                191802.58  140.824214  136.29   1362"
      ]
     },
     "execution_count": 182,
     "metadata": {},
     "output_type": "execute_result"
    }
   ],
   "source": [
    "#cart value\n",
    "cart_by_checkout = df_test.groupby('checkout_status')['cart_value'].aggregate(['sum','mean','median','count'])\n",
    "cart_by_checkout"
   ]
  },
  {
   "cell_type": "code",
   "execution_count": 185,
   "metadata": {},
   "outputs": [
    {
     "data": {
      "text/plain": [
       "<Axes: xlabel='checkout_status'>"
      ]
     },
     "execution_count": 185,
     "metadata": {},
     "output_type": "execute_result"
    },
    {
     "data": {
      "image/png": "[encoded data removed]",
      "text/plain": [
       "<Figure size 640x480 with 1 Axes>"
      ]
     },
     "metadata": {},
     "output_type": "display_data"
    }
   ],
   "source": [
    "cart_by_checkout['sum'].sort_values(ascending=False).plot(kind='bar')"
   ]
  },
  {
   "cell_type": "code",
   "execution_count": 186,
   "metadata": {},
   "outputs": [
    {
     "data": {
      "text/plain": [
       "<Axes: xlabel='checkout_status'>"
      ]
     },
     "execution_count": 186,
     "metadata": {},
     "output_type": "execute_result"
    },
    {
     "data": {
      "image/png": "[encoded data removed]",
      "text/plain": [
       "<Figure size 640x480 with 1 Axes>"
      ]
     },
     "metadata": {},
     "output_type": "display_data"
    }
   ],
   "source": [
    "cart_by_checkout['mean'].sort_values(ascending=False).plot(kind='bar')"
   ]
  },
  {
   "attachments": {},
   "cell_type": "markdown",
   "metadata": {},
   "source": [
    "People who check out appears to have less cart value, which mean value around 140 minutes.\n",
    "On the other hand, people who didn't check out appears to have more cart value, which mean value around 152 minutes."
   ]
  },
  {
   "cell_type": "code",
   "execution_count": 198,
   "metadata": {},
   "outputs": [
    {
     "data": {
      "text/html": [
       "<div>\n",
       "<style scoped>\n",
       "    .dataframe tbody tr th:only-of-type {\n",
       "        vertical-align: middle;\n",
       "    }\n",
       "\n",
       "    .dataframe tbody tr th {\n",
       "        vertical-align: top;\n",
       "    }\n",
       "\n",
       "    .dataframe thead th {\n",
       "        text-align: right;\n",
       "    }\n",
       "</style>\n",
       "<table border=\"1\" class=\"dataframe\">\n",
       "  <thead>\n",
       "    <tr style=\"text-align: right;\">\n",
       "      <th></th>\n",
       "      <th>sum</th>\n",
       "      <th>mean</th>\n",
       "      <th>median</th>\n",
       "      <th>count</th>\n",
       "    </tr>\n",
       "    <tr>\n",
       "      <th>cart_items</th>\n",
       "      <th></th>\n",
       "      <th></th>\n",
       "      <th></th>\n",
       "      <th></th>\n",
       "    </tr>\n",
       "  </thead>\n",
       "  <tbody>\n",
       "    <tr>\n",
       "      <th>5</th>\n",
       "      <td>11900.64</td>\n",
       "      <td>50.426441</td>\n",
       "      <td>50.680</td>\n",
       "      <td>236</td>\n",
       "    </tr>\n",
       "    <tr>\n",
       "      <th>6</th>\n",
       "      <td>13467.38</td>\n",
       "      <td>59.067456</td>\n",
       "      <td>59.425</td>\n",
       "      <td>228</td>\n",
       "    </tr>\n",
       "    <tr>\n",
       "      <th>7</th>\n",
       "      <td>18043.04</td>\n",
       "      <td>70.757020</td>\n",
       "      <td>70.900</td>\n",
       "      <td>255</td>\n",
       "    </tr>\n",
       "    <tr>\n",
       "      <th>8</th>\n",
       "      <td>18066.29</td>\n",
       "      <td>77.871940</td>\n",
       "      <td>78.795</td>\n",
       "      <td>232</td>\n",
       "    </tr>\n",
       "    <tr>\n",
       "      <th>9</th>\n",
       "      <td>22304.51</td>\n",
       "      <td>91.038816</td>\n",
       "      <td>90.300</td>\n",
       "      <td>245</td>\n",
       "    </tr>\n",
       "  </tbody>\n",
       "</table>\n",
       "</div>"
      ],
      "text/plain": [
       "                 sum       mean  median  count\n",
       "cart_items                                    \n",
       "5           11900.64  50.426441  50.680    236\n",
       "6           13467.38  59.067456  59.425    228\n",
       "7           18043.04  70.757020  70.900    255\n",
       "8           18066.29  77.871940  78.795    232\n",
       "9           22304.51  91.038816  90.300    245"
      ]
     },
     "execution_count": 198,
     "metadata": {},
     "output_type": "execute_result"
    }
   ],
   "source": [
    "cart_by_item = df_test.groupby('cart_items')['cart_value'].aggregate(['sum','mean','median','count'])\n",
    "cart_by_item.head()"
   ]
  },
  {
   "cell_type": "code",
   "execution_count": 199,
   "metadata": {},
   "outputs": [
    {
     "data": {
      "text/plain": [
       "<Axes: xlabel='cart_items'>"
      ]
     },
     "execution_count": 199,
     "metadata": {},
     "output_type": "execute_result"
    },
    {
     "data": {
      "image/png": "[encoded data removed]",
      "text/plain": [
       "<Figure size 640x480 with 1 Axes>"
      ]
     },
     "metadata": {},
     "output_type": "display_data"
    }
   ],
   "source": [
    "cart_by_item['sum'].sort_values(ascending=False).plot(kind='bar')"
   ]
  },
  {
   "cell_type": "code",
   "execution_count": 200,
   "metadata": {},
   "outputs": [
    {
     "data": {
      "text/html": [
       "<div>\n",
       "<style scoped>\n",
       "    .dataframe tbody tr th:only-of-type {\n",
       "        vertical-align: middle;\n",
       "    }\n",
       "\n",
       "    .dataframe tbody tr th {\n",
       "        vertical-align: top;\n",
       "    }\n",
       "\n",
       "    .dataframe thead th {\n",
       "        text-align: right;\n",
       "    }\n",
       "</style>\n",
       "<table border=\"1\" class=\"dataframe\">\n",
       "  <thead>\n",
       "    <tr style=\"text-align: right;\">\n",
       "      <th></th>\n",
       "      <th>sum</th>\n",
       "      <th>mean</th>\n",
       "      <th>median</th>\n",
       "      <th>count</th>\n",
       "    </tr>\n",
       "    <tr>\n",
       "      <th>pages_visited</th>\n",
       "      <th></th>\n",
       "      <th></th>\n",
       "      <th></th>\n",
       "      <th></th>\n",
       "    </tr>\n",
       "  </thead>\n",
       "  <tbody>\n",
       "    <tr>\n",
       "      <th>1</th>\n",
       "      <td>39497.57</td>\n",
       "      <td>141.568351</td>\n",
       "      <td>131.56</td>\n",
       "      <td>279</td>\n",
       "    </tr>\n",
       "    <tr>\n",
       "      <th>2</th>\n",
       "      <td>45464.57</td>\n",
       "      <td>149.554507</td>\n",
       "      <td>147.52</td>\n",
       "      <td>304</td>\n",
       "    </tr>\n",
       "    <tr>\n",
       "      <th>3</th>\n",
       "      <td>61777.89</td>\n",
       "      <td>154.059576</td>\n",
       "      <td>143.20</td>\n",
       "      <td>401</td>\n",
       "    </tr>\n",
       "    <tr>\n",
       "      <th>4</th>\n",
       "      <td>90346.81</td>\n",
       "      <td>150.578017</td>\n",
       "      <td>146.81</td>\n",
       "      <td>600</td>\n",
       "    </tr>\n",
       "    <tr>\n",
       "      <th>5</th>\n",
       "      <td>110292.64</td>\n",
       "      <td>150.673005</td>\n",
       "      <td>144.51</td>\n",
       "      <td>732</td>\n",
       "    </tr>\n",
       "  </tbody>\n",
       "</table>\n",
       "</div>"
      ],
      "text/plain": [
       "                     sum        mean  median  count\n",
       "pages_visited                                      \n",
       "1               39497.57  141.568351  131.56    279\n",
       "2               45464.57  149.554507  147.52    304\n",
       "3               61777.89  154.059576  143.20    401\n",
       "4               90346.81  150.578017  146.81    600\n",
       "5              110292.64  150.673005  144.51    732"
      ]
     },
     "execution_count": 200,
     "metadata": {},
     "output_type": "execute_result"
    }
   ],
   "source": [
    "cart_by_page = df_test.groupby('pages_visited')['cart_value'].aggregate(['sum','mean','median','count'])\n",
    "cart_by_page.head()"
   ]
  },
  {
   "cell_type": "code",
   "execution_count": 205,
   "metadata": {},
   "outputs": [
    {
     "data": {
      "text/plain": [
       "<Axes: xlabel='pages_visited'>"
      ]
     },
     "execution_count": 205,
     "metadata": {},
     "output_type": "execute_result"
    },
    {
     "data": {
      "image/png": "[encoded data removed]",
      "text/plain": [
       "<Figure size 640x480 with 1 Axes>"
      ]
     },
     "metadata": {},
     "output_type": "display_data"
    }
   ],
   "source": [
    "cart_by_page['mean'].sort_values(ascending=False).plot(kind='bar')"
   ]
  },
  {
   "cell_type": "code",
   "execution_count": 202,
   "metadata": {},
   "outputs": [
    {
     "data": {
      "text/html": [
       "<div>\n",
       "<style scoped>\n",
       "    .dataframe tbody tr th:only-of-type {\n",
       "        vertical-align: middle;\n",
       "    }\n",
       "\n",
       "    .dataframe tbody tr th {\n",
       "        vertical-align: top;\n",
       "    }\n",
       "\n",
       "    .dataframe thead th {\n",
       "        text-align: right;\n",
       "    }\n",
       "</style>\n",
       "<table border=\"1\" class=\"dataframe\">\n",
       "  <thead>\n",
       "    <tr style=\"text-align: right;\">\n",
       "      <th></th>\n",
       "      <th>sum</th>\n",
       "      <th>mean</th>\n",
       "      <th>median</th>\n",
       "      <th>count</th>\n",
       "    </tr>\n",
       "    <tr>\n",
       "      <th>cart_items</th>\n",
       "      <th></th>\n",
       "      <th></th>\n",
       "      <th></th>\n",
       "      <th></th>\n",
       "    </tr>\n",
       "  </thead>\n",
       "  <tbody>\n",
       "    <tr>\n",
       "      <th>5</th>\n",
       "      <td>5793.237745</td>\n",
       "      <td>24.547618</td>\n",
       "      <td>24.754783</td>\n",
       "      <td>236</td>\n",
       "    </tr>\n",
       "    <tr>\n",
       "      <th>6</th>\n",
       "      <td>5807.778959</td>\n",
       "      <td>25.472715</td>\n",
       "      <td>25.132804</td>\n",
       "      <td>228</td>\n",
       "    </tr>\n",
       "    <tr>\n",
       "      <th>7</th>\n",
       "      <td>6281.936740</td>\n",
       "      <td>24.635046</td>\n",
       "      <td>23.686768</td>\n",
       "      <td>255</td>\n",
       "    </tr>\n",
       "    <tr>\n",
       "      <th>8</th>\n",
       "      <td>5863.787114</td>\n",
       "      <td>25.274944</td>\n",
       "      <td>24.357088</td>\n",
       "      <td>232</td>\n",
       "    </tr>\n",
       "    <tr>\n",
       "      <th>9</th>\n",
       "      <td>6237.132979</td>\n",
       "      <td>25.457686</td>\n",
       "      <td>26.002611</td>\n",
       "      <td>245</td>\n",
       "    </tr>\n",
       "  </tbody>\n",
       "</table>\n",
       "</div>"
      ],
      "text/plain": [
       "                    sum       mean     median  count\n",
       "cart_items                                          \n",
       "5           5793.237745  24.547618  24.754783    236\n",
       "6           5807.778959  25.472715  25.132804    228\n",
       "7           6281.936740  24.635046  23.686768    255\n",
       "8           5863.787114  25.274944  24.357088    232\n",
       "9           6237.132979  25.457686  26.002611    245"
      ]
     },
     "execution_count": 202,
     "metadata": {},
     "output_type": "execute_result"
    }
   ],
   "source": [
    "time_by_item = df_test.groupby('cart_items')['time_spent'].aggregate(['sum','mean','median','count'])\n",
    "time_by_item.head()"
   ]
  },
  {
   "cell_type": "code",
   "execution_count": 204,
   "metadata": {},
   "outputs": [
    {
     "data": {
      "text/plain": [
       "<Axes: xlabel='cart_items'>"
      ]
     },
     "execution_count": 204,
     "metadata": {},
     "output_type": "execute_result"
    },
    {
     "data": {
      "image/png": "[encoded data removed]",
      "text/plain": [
       "<Figure size 640x480 with 1 Axes>"
      ]
     },
     "metadata": {},
     "output_type": "display_data"
    }
   ],
   "source": [
    "time_by_item['mean'].sort_values(ascending=False).plot(kind='bar')"
   ]
  },
  {
   "attachments": {},
   "cell_type": "markdown",
   "metadata": {},
   "source": [
    "In summary, to increase sales, it is important to address the lower cart value of people who check out compared to those who don't. To achieve this, implementing price reductions or discounts can be effective in attracting more customers to complete their purchases. Furthermore, it is observed that the number of products added and the number of pages viewed by customers are similar. Therefore, adjusting the price is deemed the most effective approach to drive sales growth."
   ]
  }
 ],
 "metadata": {
  "kernelspec": {
   "display_name": "base",
   "language": "python",
   "name": "python3"
  },
  "language_info": {
   "codemirror_mode": {
    "name": "ipython",
    "version": 3
   },
   "file_extension": ".py",
   "mimetype": "text/x-python",
   "name": "python",
   "nbconvert_exporter": "python",
   "pygments_lexer": "ipython3",
   "version": "3.9.16"
  },
  "orig_nbformat": 4
 },
 "nbformat": 4,
 "nbformat_minor": 2
}
